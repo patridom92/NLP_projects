{
 "cells": [
  {
   "cell_type": "code",
   "execution_count": 75,
   "id": "40407fe4",
   "metadata": {},
   "outputs": [],
   "source": [
    "#Importing the necessary libraries"
   ]
  },
  {
   "cell_type": "code",
   "execution_count": 76,
   "id": "db895047",
   "metadata": {},
   "outputs": [],
   "source": [
    "import warnings\n",
    "warnings.filterwarnings('ignore')\n",
    "import pandas as pd\n",
    "from sklearn.feature_extraction.text import TfidfVectorizer\n",
    "import matplotlib.pyplot as plt\n",
    "from wordcloud import WordCloud"
   ]
  },
  {
   "cell_type": "code",
   "execution_count": 77,
   "id": "da595487",
   "metadata": {
    "scrolled": true
   },
   "outputs": [
    {
     "name": "stderr",
     "output_type": "stream",
     "text": [
      "[nltk_data] Downloading package punkt to /Users/patri/nltk_data...\n",
      "[nltk_data]   Package punkt is already up-to-date!\n",
      "[nltk_data] Downloading package stopwords to /Users/patri/nltk_data...\n",
      "[nltk_data]   Package stopwords is already up-to-date!\n"
     ]
    }
   ],
   "source": [
    "import nltk\n",
    "nltk.download('punkt')\n",
    "nltk.download('stopwords')\n",
    "from nltk.corpus import stopwords"
   ]
  },
  {
   "cell_type": "code",
   "execution_count": 78,
   "id": "0e0153c8",
   "metadata": {},
   "outputs": [],
   "source": [
    "#Importing the dataset"
   ]
  },
  {
   "cell_type": "code",
   "execution_count": 79,
   "id": "7314606f",
   "metadata": {},
   "outputs": [],
   "source": [
    "df = pd.read_csv(\"amazon_reviews.csv\")"
   ]
  },
  {
   "cell_type": "code",
   "execution_count": 80,
   "id": "c7a32b4f",
   "metadata": {},
   "outputs": [],
   "source": [
    "#Checking the first 5 lines of the dataset to get an idea of how it looks"
   ]
  },
  {
   "cell_type": "code",
   "execution_count": 81,
   "id": "76f40a49",
   "metadata": {
    "scrolled": false
   },
   "outputs": [
    {
     "data": {
      "text/html": [
       "<div>\n",
       "<style scoped>\n",
       "    .dataframe tbody tr th:only-of-type {\n",
       "        vertical-align: middle;\n",
       "    }\n",
       "\n",
       "    .dataframe tbody tr th {\n",
       "        vertical-align: top;\n",
       "    }\n",
       "\n",
       "    .dataframe thead th {\n",
       "        text-align: right;\n",
       "    }\n",
       "</style>\n",
       "<table border=\"1\" class=\"dataframe\">\n",
       "  <thead>\n",
       "    <tr style=\"text-align: right;\">\n",
       "      <th></th>\n",
       "      <th>Review</th>\n",
       "      <th>Sentiment</th>\n",
       "    </tr>\n",
       "  </thead>\n",
       "  <tbody>\n",
       "    <tr>\n",
       "      <th>0</th>\n",
       "      <td>Fast shipping but this product is very cheaply...</td>\n",
       "      <td>1</td>\n",
       "    </tr>\n",
       "    <tr>\n",
       "      <th>1</th>\n",
       "      <td>This case takes so long to ship and it's not e...</td>\n",
       "      <td>1</td>\n",
       "    </tr>\n",
       "    <tr>\n",
       "      <th>2</th>\n",
       "      <td>Good for not droids. Not good for iPhones. You...</td>\n",
       "      <td>1</td>\n",
       "    </tr>\n",
       "    <tr>\n",
       "      <th>3</th>\n",
       "      <td>The cable was not compatible between my macboo...</td>\n",
       "      <td>1</td>\n",
       "    </tr>\n",
       "    <tr>\n",
       "      <th>4</th>\n",
       "      <td>The case is nice but did not have a glow light...</td>\n",
       "      <td>1</td>\n",
       "    </tr>\n",
       "  </tbody>\n",
       "</table>\n",
       "</div>"
      ],
      "text/plain": [
       "                                              Review  Sentiment\n",
       "0  Fast shipping but this product is very cheaply...          1\n",
       "1  This case takes so long to ship and it's not e...          1\n",
       "2  Good for not droids. Not good for iPhones. You...          1\n",
       "3  The cable was not compatible between my macboo...          1\n",
       "4  The case is nice but did not have a glow light...          1"
      ]
     },
     "execution_count": 81,
     "metadata": {},
     "output_type": "execute_result"
    }
   ],
   "source": [
    "df.head()"
   ]
  },
  {
   "cell_type": "code",
   "execution_count": 82,
   "id": "a0edae3f",
   "metadata": {},
   "outputs": [],
   "source": [
    "#Checking columns, null values and data types"
   ]
  },
  {
   "cell_type": "code",
   "execution_count": 83,
   "id": "ca340c10",
   "metadata": {
    "scrolled": true
   },
   "outputs": [
    {
     "name": "stdout",
     "output_type": "stream",
     "text": [
      "<class 'pandas.core.frame.DataFrame'>\n",
      "RangeIndex: 25000 entries, 0 to 24999\n",
      "Data columns (total 2 columns):\n",
      " #   Column     Non-Null Count  Dtype \n",
      "---  ------     --------------  ----- \n",
      " 0   Review     24999 non-null  object\n",
      " 1   Sentiment  25000 non-null  int64 \n",
      "dtypes: int64(1), object(1)\n",
      "memory usage: 390.8+ KB\n"
     ]
    }
   ],
   "source": [
    "df.info()"
   ]
  },
  {
   "cell_type": "code",
   "execution_count": 84,
   "id": "a088f30d",
   "metadata": {},
   "outputs": [],
   "source": [
    "#there is only one review missing"
   ]
  },
  {
   "cell_type": "code",
   "execution_count": 85,
   "id": "1d95e86e",
   "metadata": {},
   "outputs": [
    {
     "data": {
      "text/plain": [
       "array([1, 2, 3, 4, 5])"
      ]
     },
     "execution_count": 85,
     "metadata": {},
     "output_type": "execute_result"
    }
   ],
   "source": [
    "df[\"Sentiment\"].unique()"
   ]
  },
  {
   "cell_type": "code",
   "execution_count": 86,
   "id": "eb2eea64",
   "metadata": {},
   "outputs": [
    {
     "data": {
      "text/plain": [
       "1    5000\n",
       "2    5000\n",
       "3    5000\n",
       "4    5000\n",
       "5    5000\n",
       "Name: Sentiment, dtype: int64"
      ]
     },
     "execution_count": 86,
     "metadata": {},
     "output_type": "execute_result"
    }
   ],
   "source": [
    "df[\"Sentiment\"].value_counts()"
   ]
  },
  {
   "cell_type": "code",
   "execution_count": 87,
   "id": "a2ab3589",
   "metadata": {},
   "outputs": [],
   "source": [
    "#Reviews go from 1 to 5"
   ]
  },
  {
   "cell_type": "code",
   "execution_count": 88,
   "id": "b5c4f564",
   "metadata": {},
   "outputs": [],
   "source": [
    "#Dropping null values"
   ]
  },
  {
   "cell_type": "code",
   "execution_count": 89,
   "id": "9461618a",
   "metadata": {},
   "outputs": [],
   "source": [
    "df.dropna(inplace=True)"
   ]
  },
  {
   "cell_type": "code",
   "execution_count": 90,
   "id": "5a2b8435",
   "metadata": {},
   "outputs": [
    {
     "name": "stdout",
     "output_type": "stream",
     "text": [
      "<class 'pandas.core.frame.DataFrame'>\n",
      "Int64Index: 24999 entries, 0 to 24999\n",
      "Data columns (total 2 columns):\n",
      " #   Column     Non-Null Count  Dtype \n",
      "---  ------     --------------  ----- \n",
      " 0   Review     24999 non-null  object\n",
      " 1   Sentiment  24999 non-null  int64 \n",
      "dtypes: int64(1), object(1)\n",
      "memory usage: 585.9+ KB\n"
     ]
    }
   ],
   "source": [
    "df.info()"
   ]
  },
  {
   "cell_type": "code",
   "execution_count": 91,
   "id": "c56f072d",
   "metadata": {},
   "outputs": [],
   "source": [
    "#Since we want to predict if a review is positive or not, we assign the numeric value 1 \n",
    "#(positive) to those reviews that have 4 or 5, and the numeric value 0 (negative) to \n",
    "#those reviews that have 3 or less"
   ]
  },
  {
   "cell_type": "code",
   "execution_count": 92,
   "id": "790666b2",
   "metadata": {},
   "outputs": [],
   "source": [
    "df.loc[df['Sentiment']<=3,'Sentiment'] = 0\n",
    "df.loc[df['Sentiment']>3,'Sentiment'] = 1"
   ]
  },
  {
   "cell_type": "code",
   "execution_count": 93,
   "id": "e52e5979",
   "metadata": {},
   "outputs": [],
   "source": [
    "#Checking if it worked"
   ]
  },
  {
   "cell_type": "code",
   "execution_count": 94,
   "id": "cbd67b3f",
   "metadata": {},
   "outputs": [
    {
     "data": {
      "text/plain": [
       "array([0, 1])"
      ]
     },
     "execution_count": 94,
     "metadata": {},
     "output_type": "execute_result"
    }
   ],
   "source": [
    "df[\"Sentiment\"].unique() #now, we only have two unique values in this column 0 (negative) and 1 (positive)"
   ]
  },
  {
   "cell_type": "code",
   "execution_count": 95,
   "id": "e484fc33",
   "metadata": {},
   "outputs": [],
   "source": [
    "#Now, I need to clean the reviews. I will start removing the stopwords"
   ]
  },
  {
   "cell_type": "code",
   "execution_count": 96,
   "id": "49444441",
   "metadata": {},
   "outputs": [],
   "source": [
    "stp_words=stopwords.words('english')\n",
    "def clean_review(review): \n",
    "  cleanreview=\" \".join(word for word in review.\n",
    "                       split() if word not in stp_words)\n",
    "  return cleanreview \n",
    "\n",
    "df['Review']=df['Review'].apply(clean_review)"
   ]
  },
  {
   "cell_type": "code",
   "execution_count": 97,
   "id": "5e88a820",
   "metadata": {},
   "outputs": [
    {
     "data": {
      "text/plain": [
       "0        Fast shipping product cheaply made I brought g...\n",
       "1        This case takes long ship even worth DONT BUY!!!!\n",
       "2        Good droids. Not good iPhones. You cannot use ...\n",
       "3        The cable compatible macbook iphone. Also conn...\n",
       "4        The case nice glow light. I'm disappointed pro...\n",
       "                               ...                        \n",
       "24995    These cables (lightning) far superior cables m...\n",
       "24996    This unit performs exactly advertised. I use c...\n",
       "24997    I key cut local hardware store cut free, progr...\n",
       "24998    I love case I ordered amazon. It color looked ...\n",
       "24999    Awsome!!! I loved little speaker. It great sou...\n",
       "Name: Review, Length: 24999, dtype: object"
      ]
     },
     "execution_count": 97,
     "metadata": {},
     "output_type": "execute_result"
    }
   ],
   "source": [
    "df[\"Review\"]"
   ]
  },
  {
   "cell_type": "code",
   "execution_count": 98,
   "id": "75f539e0",
   "metadata": {},
   "outputs": [],
   "source": [
    "#Checking how many counts there are for positive and negative reviews"
   ]
  },
  {
   "cell_type": "code",
   "execution_count": 99,
   "id": "7470b1d0",
   "metadata": {},
   "outputs": [
    {
     "data": {
      "text/plain": [
       "0    15000\n",
       "1     9999\n",
       "Name: Sentiment, dtype: int64"
      ]
     },
     "execution_count": 99,
     "metadata": {},
     "output_type": "execute_result"
    }
   ],
   "source": [
    "df['Sentiment'].value_counts()"
   ]
  },
  {
   "cell_type": "code",
   "execution_count": 100,
   "id": "d56c46ec",
   "metadata": {},
   "outputs": [],
   "source": [
    "#There are more negative reviews than positive reviews"
   ]
  }
 ],
 "metadata": {
  "kernelspec": {
   "display_name": "Python 3 (ipykernel)",
   "language": "python",
   "name": "python3"
  },
  "language_info": {
   "codemirror_mode": {
    "name": "ipython",
    "version": 3
   },
   "file_extension": ".py",
   "mimetype": "text/x-python",
   "name": "python",
   "nbconvert_exporter": "python",
   "pygments_lexer": "ipython3",
   "version": "3.9.12"
  }
 },
 "nbformat": 4,
 "nbformat_minor": 5
}
